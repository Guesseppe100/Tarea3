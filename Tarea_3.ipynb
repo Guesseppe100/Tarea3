{
  "cells": [
    {
      "cell_type": "markdown",
      "metadata": {
        "id": "au1giV3cJBF5"
      },
      "source": [
        "![Universidad Central](https://www.ucentral.edu.co/sites/default/files/inline-images/identificadores-Centrados_en_ti_logo-h.png)"
      ]
    },
    {
      "cell_type": "markdown",
      "metadata": {
        "id": "eWZAdQe4eb4P"
      },
      "source": [
        "# __CURSO DE PROGRAMACIÓN PARA ANALÍTICA DE DATOS__\n",
        "\n",
        "> ## __TALLER N° 4:  CONDICIONALES Y CICLOS__\n",
        ">\n",
        "> ## Profesor: Jorge Victorino [jvictorinog@ucentral.edu.co](jvictorinog@ucentral.edu.co)<br>\n",
        "> ### Facultad de Ingeniería y Ciencias Básicas <br>\n",
        "> ### Universidad Central <br>\n",
        "> <br>\n",
        ">\n",
        "> ## __Contenido__\n",
        ">> ### Estructura condicional\n",
        ">> - Concepto de decisión\n",
        ">\n",
        ">> ### Condicional simple\n",
        ">> ### Condicional doble\n",
        ">> ### Condicional anidado\n",
        ">> ### Condicional múltiple o selectivo\n",
        "---\n",
        "\n",
        "\n"
      ]
    },
    {
      "cell_type": "code",
      "execution_count": 7,
      "metadata": {},
      "outputs": [
        {
          "name": "stdout",
          "output_type": "stream",
          "text": [
            "La caja puede pasar de 6 formas diferentes.\n"
          ]
        }
      ],
      "source": [
        "import numpy as np\n",
        "\n",
        "# INGRESO\n",
        "a = float(input(\"Lado a: \"))\n",
        "b = float(input(\"Lado b: \"))\n",
        "c = float(input(\"Lado c: \"))\n",
        "r = float(input(\"Radio del orificio: \"))\n",
        "\n",
        "# PROCEDIMIENTO\n",
        "diametro = 2 * r  # Calcular el diámetro del orificio\n",
        "\n",
        "# Calcular diagonales de las caras principales\n",
        "diagonal1 = np.sqrt(a**2 + c**2)  # Cara (a × c)\n",
        "diagonal2 = np.sqrt(a**2 + b**2)  # Cara (a × b)\n",
        "diagonal3 = np.sqrt(b**2 + c**2)  # Cara (b × c)\n",
        "\n",
        "# Contar las formas en que la caja puede pasar\n",
        "formas = 0\n",
        "if diagonal1 <= diametro:\n",
        "    formas += 2  # Hay dos caras de este tipo\n",
        "if diagonal2 <= diametro:\n",
        "    formas += 2\n",
        "if diagonal3 <= diametro:\n",
        "    formas += 2\n",
        "\n",
        "# SALIDA\n",
        "print(f\"La caja puede pasar de {formas} formas diferentes.\")"
      ]
    },
    {
      "cell_type": "markdown",
      "metadata": {
        "id": "VdJ5xCXzh05f"
      },
      "source": [
        "### __2. Clasificar estudiantes__\n",
        "\n",
        "- En la clase de programación solo falta aplicar el examen final. Antes de realizar el examen se requiere saber qué calificación mínima deben obtener en este para aprobar la asignatura con 3.5. Hasta el momento los estudiantes tienen 3 califcaciones: corte1, corte2 y corte3 sin contar con el examen. Para calcular la nota mínima se debe tener en cuenta la siguiente información:\n",
        "    - Las tres calificaciones dadas tienen los siguientes pesos: \n",
        "        1. corte1: 30%\n",
        "        2. corte2: 30% \n",
        "        3. corte3: 40%. Este último corresponde a la califcación parcial dada 24% más el examen final 16% que hace falta.\n",
        "    - Todas las calificaciones están en el intervalo de cero a cinco con una sola décima de precisión. \n",
        "    - La asignatura se aprueba con 3.5 o más\n",
        "    - El resultado del programa debe ser: \n",
        "        - Si el acumulado que tiene sin el examen es igual o superior a 3.5 es: 'Aprobado'\n",
        "        - Si debe obtener más de 5 en el examen para pasar es: 'perdió'\n",
        "        - En caso contrario, se responde con la calificación mínima que debe obtener con precisión de una décima  \n",
        "\n",
        "- Datos de prueba: probar con las siguientes entradas y comprobar si el resultado es correcto:\n",
        "\n",
        "| Entrada | Salida\n",
        "| --- | ---\n",
        "| 5.0,  4.5,  4.5 | Aprobado\n",
        "| 3.1,  1.8,  1.4 | Reprobado\n",
        "| 4.0,  4.0,  4.5 | Requiere 0.2\n",
        "| 4.5,  4.0,  4.0 | Aprobado\n",
        "| 1.0,  0.0,  0.0 | Reprobado\n",
        "| 4.0,  3.5,  3.5 | Requiere 2.6\n",
        "| 4.2,  3.3,  2.5 | Requiere 4.1\n",
        "| 3.8,  4,2,  1.3 | Requiere 5.0\n",
        "| 3.5,  4.2,  1.6 | Reprobado\n",
        "\n",
        "\n",
        "\n"
      ]
    },
    {
      "cell_type": "code",
      "execution_count": 10,
      "metadata": {},
      "outputs": [
        {
          "name": "stdout",
          "output_type": "stream",
          "text": [
            "Estado del estudiante: Reprobado\n"
          ]
        }
      ],
      "source": [
        "import math\n",
        "\n",
        "# Pesos de cada componente\n",
        "peso_corte1 = 0.30\n",
        "peso_corte2 = 0.30\n",
        "peso_corte3 = 0.24  \n",
        "peso_examen = 0.16\n",
        "\n",
        "# Nota mínima para aprobar\n",
        "nota_aprobacion = 3.5\n",
        "\n",
        "# Entrada del usuario con validación\n",
        "corte1 = float(input(\"Ingrese la nota del Corte 1 (30%) [0-5]: \"))\n",
        "while corte1 < 0 or corte1 > 5:\n",
        "    print(\"Error: La nota debe estar entre 0 y 5.\")\n",
        "    corte1 = float(input(\"Ingrese la nota del Corte 1 (30%) [0-5]: \"))\n",
        "\n",
        "corte2 = float(input(\"Ingrese la nota del Corte 2 (30%) [0-5]: \"))\n",
        "while corte2 < 0 or corte2 > 5:\n",
        "    print(\"Error: La nota debe estar entre 0 y 5.\")\n",
        "    corte2 = float(input(\"Ingrese la nota del Corte 2 (30%) [0-5]: \"))\n",
        "\n",
        "corte3 = float(input(\"Ingrese la nota del Corte 3 (24%) [0-5]: \"))\n",
        "while corte3 < 0 or corte3 > 5:\n",
        "    print(\"Error: La nota debe estar entre 0 y 5.\")\n",
        "    corte3 = float(input(\"Ingrese la nota del Corte 3 (24%) [0-5]: \"))\n",
        "\n",
        "# Calcular el acumulado sin el examen\n",
        "acumulado = (peso_corte1 * corte1) + (peso_corte2 * corte2) + (peso_corte3 * corte3)\n",
        "\n",
        "# Evaluar si ya aprobó\n",
        "if acumulado >= nota_aprobacion:\n",
        "    resultado = \"Aprobado\"\n",
        "else:\n",
        "    # Calcular la nota mínima requerida en el examen con redondeo hacia arriba\n",
        "    nota_minima_examen = (nota_aprobacion - acumulado) / peso_examen\n",
        "    nota_minima_examen = math.ceil(nota_minima_examen * 10) / 10  # Redondear hacia arriba al primer decimal\n",
        "\n",
        "    # Si la nota mínima supera 5, es imposible aprobar\n",
        "    if nota_minima_examen > 5:\n",
        "        resultado = \"Reprobado\"\n",
        "    else:\n",
        "        resultado = f\"Requiere {nota_minima_examen}\"\n",
        "\n",
        "# Mostrar resultado final\n",
        "print(f\"Estado del estudiante: {resultado}\")\n"
      ]
    },
    {
      "cell_type": "markdown",
      "metadata": {},
      "source": [
        "> __3. Validar la fecha__\n",
        "- Para un determinado sistema se considera una fecha válida entre el 1 de Enero del año 1000 y 31 de diciembre del año 9999. Hacer un algoritmo tal que el usuario ingresa tres valores enteros por aparte, en el siguiente orden: Año, Mes y Día (3 valores y No la fecha completa). El algoritmo debe verificar que la fecha que se ingresa es válida o no. Tener en cuenta rango de años, años biciestos y la duración de cada mes. (No se deben usar librerías de fecha y hora para este ejercicio)\n",
        "- Pruebas del algoritmo: la siguiente tabla muestra el resultado correcto cuando el usuario ingresa los valores de año, mes y día:\n",
        "\n",
        "| año | mes | día | Resultado\n",
        "| :---: | :---: | :---: | :---:\n",
        "|  836 |  3 | 21 | Falso\n",
        "| 1836 |  5 | 31 | Verdadero\n",
        "| 1525 |  6 | 31 | Falso\n",
        "| 1525 |  6 | 15 | Verdadero\n",
        "| 2022 |  2 | 29 | Falso\n",
        "| 2020 |  2 | 29 | Verdadero\n",
        "| 2525 | 24 | 11 | Falso\n",
        "| 2525 | 11 | 24 | Verdadero\n",
        "| 8842 | 10 | 32 | Falso\n",
        "| 8842 | 10 | 12 | Verdadero\n",
        "| 1000 |  1 |  1 | Verdadero\n"
      ]
    },
    {
      "cell_type": "code",
      "execution_count": 12,
      "metadata": {},
      "outputs": [
        {
          "name": "stdout",
          "output_type": "stream",
          "text": [
            "La fecha es válida\n"
          ]
        }
      ],
      "source": [
        "# Definir los días por mes (sin considerar años bisiestos)\n",
        "dias_por_mes = [31, 28, 31, 30, 31, 30, 31, 31, 30, 31, 30, 31]\n",
        "\n",
        "# Entrada del usuario\n",
        "año = int(input(\"Ingresa el año: \"))\n",
        "mes = int(input(\"Ingresa el mes: \"))\n",
        "dia = int(input(\"Ingresa el día: \"))\n",
        "\n",
        "# Validar el rango del año\n",
        "if año < 1000 or año > 9999:\n",
        "    print(\"Fecha incorrecta: el año debe estar entre 1000 y 9999.\")\n",
        "elif mes < 1 or mes > 12:\n",
        "    print(\"Fecha incorrecta: el mes debe estar entre 1 y 12.\")\n",
        "else:\n",
        "    # Verificar si el año es bisiesto\n",
        "    if (año % 4 == 0 and año % 100 != 0) or (año % 400 == 0):\n",
        "        dias_por_mes[1] = 29  # Febrero tiene 29 días en año bisiesto\n",
        "\n",
        "    # Validar el día\n",
        "    if 1 <= dia <= dias_por_mes[mes - 1]:\n",
        "        print(\"La fecha es válida\")\n",
        "    else:\n",
        "        print(\"Fecha incorrecta: el día no es válido para el mes dado.\")\n"
      ]
    },
    {
      "cell_type": "markdown",
      "metadata": {
        "id": "CecgPT_UNApC"
      },
      "source": [
        "# __Ejercicios de algoritmos ciclicos__\n",
        "\n",
        "> - En los siguientes ejercicios no utilizar librerías y no utilizar listas o arreglos  "
      ]
    },
    {
      "cell_type": "markdown",
      "metadata": {
        "id": "a4XMVYvEx5X3"
      },
      "source": [
        "## Problema del digito de verificación\n",
        "\n",
        "> - Dígito de verificación, es una regla que se usa para detectar errores en la lectura de una cadena por algún dispositivo de sensado. Esta regla permite verificar si, por ejemplo, un número de cuenta asignado a una persona es válido o si este puede ser inventado o simplemente esta mal.\n",
        "En este ejemplo el dígito de verificación es un número que es el resultado de sumar todos los dígitos (de izquierda a derecha) excepto el último y obtener el módulo X de esta suma. En decir, el último digito se utiliza para verificar y el número sera válido si es igual al módulo X de la suma.\n",
        "Adicionalmente, los números de cuenta son válidos si cumplen que tienen una determinada cantidad de digitos así:\n",
        "- Tipo 1: 10 digitos y hacer el módulo X=10 con la suma\n",
        "- Tipo 2:  8 digitos y hacer el módulo X=8  con la suma\n",
        "- Ejemplos:\n",
        "    - Entrada: (3425154)  --> Salida: (Detección de falla por longitud)\n",
        "    - Entrada: (42524250) --> Salida: (Válido Tipo-2 )\n",
        "    - Entrada: (42524257) --> Salida: (Detcción de falla por dígito no válido)\n",
        "    - Entrada: (20186040301) --> Salida: (Detección de falla por longitud)\n",
        "    - Entrada: (2018604030) --> Salida: (Válido Tipo-1)\n",
        "    - Entrada: (6786976469) --> Salida: (Válido Tipo-1)\n",
        "    - Entrada: (6786976460) --> Salida: (Detección de falla por dígito no válido)\n"
      ]
    },
    {
      "cell_type": "code",
      "execution_count": 6,
      "metadata": {},
      "outputs": [
        {
          "name": "stdout",
          "output_type": "stream",
          "text": [
            "Número válido (Tipo 1)\n"
          ]
        }
      ],
      "source": [
        "# Solicitar el número de cuenta\n",
        "numero = int(input(\"Ingrese el número de cuenta: \"))\n",
        "\n",
        "# Determinar la cantidad de dígitos\n",
        "temp = numero\n",
        "digitos = 0\n",
        "while temp > 0:\n",
        "    temp //= 10\n",
        "    digitos += 1\n",
        "\n",
        "# Validar que la longitud sea 8 o 10\n",
        "if digitos != 8 and digitos != 10:\n",
        "    print(\"Número inválido: debe tener 8 o 10 dígitos.\")\n",
        "else:\n",
        "    # Definir el módulo y el tipo de cuenta\n",
        "    if digitos == 10:\n",
        "        modulo_x = 10\n",
        "        tipo_cuenta = \"Tipo 1\"\n",
        "    else:\n",
        "        modulo_x = 8\n",
        "        tipo_cuenta = \"Tipo 2\"\n",
        "\n",
        "    # Extraer el último dígito (dígito de verificación)\n",
        "    digito_verificacion = numero % 10\n",
        "    numero //= 10  # Eliminar el último dígito\n",
        "\n",
        "    # Calcular la suma de los demás dígitos\n",
        "    suma = 0\n",
        "    while numero > 0:\n",
        "        suma += numero % 10  # Extraer el último dígito y sumarlo\n",
        "        numero //= 10  # Eliminar el último dígito\n",
        "\n",
        "    # Validar con el módulo correspondiente\n",
        "    if suma % modulo_x == digito_verificacion:\n",
        "        print(f\"Número válido ({tipo_cuenta})\")\n",
        "    else:\n",
        "        print(f\"Número inválido ({tipo_cuenta})\")\n"
      ]
    },
    {
      "cell_type": "markdown",
      "metadata": {
        "id": "vb1PDIf2bAur"
      },
      "source": [
        "## Probelma de reciclar vasos de plástico\n",
        "\n",
        "> - Cierta compañía se dedica a la producción vasos de plástico reciclando vasos usados.\n",
        "Diseñe una función que calcule la cantidad total acumulada de vasos que se pueden prodicir a partir de $n$ vasos y sabiendo que es posible fabricar un vaso nuevo reciclando repetidamente un número $x$ de vasos usados, hasta que ya no haya vasos para reciclar.\n",
        "- __Ejemplo__: Si n = 70, x = 4, la respuesta entregada por la función es 23 siguiendo el siguiente proceso:\n",
        "    - Primer reciclaje: Con 70 se fabrican 70/4 =17 vasos y sobran 2\n",
        "    - Segundo reciclaje: n= 17+2 =19 se fabrican 19/4 = 4 vasos\ty sobran 3\n",
        "    - Tercer reciclaje: n=4+3 =7 se fabrican 7/4 = 1 y sobran 3\n",
        "    - Cuarto reciclaje: n=1+3 =4 se fabrican 4/4 =1 vasos y no quedan suficientes\n",
        "    - vasos para reciclar. Total de vasos fabricados:  17 + 4 + 1 +1= 23\n",
        "- __Otros ejemplos:__\n",
        "    - Entrada: (580, 3) --> Salida: (289)\n",
        "    - Entrada: (580, 5) --> Salida: (144)\n",
        "    - Entrada: (580, 6) --> Salida: (115)\n",
        "    - Entrada: (580, 7) --> Salida: (96)\n",
        "    - Entrada: (110, 5) --> Salida: (27)\n",
        "    - Entrada: (150, 10) --> Salida: (16)\n",
        "    - Entrada: (990, 2) --> Salida: (989)\n",
        "\n",
        "\n",
        "\n",
        "\n"
      ]
    },
    {
      "cell_type": "code",
      "execution_count": 7,
      "metadata": {},
      "outputs": [
        {
          "name": "stdout",
          "output_type": "stream",
          "text": [
            "Total de vasos fabricados: 27\n"
          ]
        }
      ],
      "source": [
        "def vasos_reciclados(n, x):\n",
        "    \"\"\"Calcula la cantidad total de vasos reciclados a partir de n vasos iniciales.\"\"\"\n",
        "    total_vasos = 0  \n",
        "    ciclo = 1  # Contador de ciclos\n",
        "\n",
        "    while n >= x:  \n",
        "        reciclados = n // x  # Cantidad de vasos nuevos fabricados\n",
        "        sobrantes = n % x  # Vasos que sobran\n",
        "\n",
        "        # Mostrar el proceso paso a paso\n",
        "        #print(f\"Ciclo {ciclo}: Con {n} se fabrican {reciclados} vasos y sobran {sobrantes}\")\n",
        "\n",
        "        total_vasos += reciclados  # Acumular vasos fabricados\n",
        "        n = reciclados + sobrantes  # Actualizar los vasos disponibles para el siguiente ciclo\n",
        "        ciclo += 1  # Incrementar el número de ciclo\n",
        "\n",
        "    return total_vasos  # Retornar el total de vasos fabricados\n",
        "\n",
        "# Solicitar los valores al usuario\n",
        "n = int(input(\"Ingrese la cantidad de vasos disponibles: \"))\n",
        "x = int(input(\"Ingrese la cantidad de vasos necesarios para reciclar uno nuevo: \"))\n",
        "\n",
        "# Llamar a la función e imprimir el resultado\n",
        "resultado = vasos_reciclados(n, x)\n",
        "print(f\"Total de vasos fabricados: {resultado}\")\n"
      ]
    },
    {
      "cell_type": "markdown",
      "metadata": {
        "id": "8q5TBDiPi6uL"
      },
      "source": [
        "## Problema del dígito característico\n",
        "\n",
        "> - Diseñe un algoritmo que lea un número natural N y sume sus dígitos, si el resultado es mayor que 9 nuevamente sume sus dígitos hasta obtener un número de un solo dígito.\n",
        "    - Ejemplos:\n",
        "        - Entrada: (4398) ==>  4398 --> 24 --> 6, Salida:(6)\n",
        "        - Entrada: (7986982) ==> 7986982 --> 49 --> 13 --> 4, Salida: (4)\n"
      ]
    },
    {
      "cell_type": "code",
      "execution_count": null,
      "metadata": {
        "id": "pcU0UB0OiKyc"
      },
      "outputs": [],
      "source": [
        "# Celda de código para probar"
      ]
    },
    {
      "cell_type": "markdown",
      "metadata": {
        "id": "MIY477LyxI9W"
      },
      "source": [
        "## Problema de combinación de primos\n",
        "> - Escriba un programa que reciba un número impar mayor a 5 y encuentre tres números primos cuya suma es igual al número impar dado. La llamada “Conjetura débil de Goldbach” propuesta en el año 1742 afirma que todo número impar mayor a 5 se puede expresar como la suma de tres números primos.\n"
      ]
    },
    {
      "cell_type": "code",
      "execution_count": 9,
      "metadata": {},
      "outputs": [
        {
          "name": "stdout",
          "output_type": "stream",
          "text": [
            "Tres números primos cuya suma es 9: (2, 2, 5)\n",
            "Tres números primos cuya suma es 9: (3, 3, 3)\n"
          ]
        }
      ],
      "source": [
        "numero = int(input(\"Ingrese un número impar mayor a 5: \"))\n",
        "\n",
        "if numero <= 5 or numero % 2 == 0:\n",
        "    print(\"El número debe ser impar y mayor que 5\")\n",
        "else:\n",
        "    encontrado = False\n",
        "    for p1 in range(2, numero):\n",
        "        es_p1_primo = True\n",
        "        if p1 < 2 or (p1 % 2 == 0 and p1 != 2):\n",
        "            es_p1_primo = False\n",
        "        for i in range(3, int(p1 ** 0.5) + 1, 2):\n",
        "            if p1 % i == 0:\n",
        "                es_p1_primo = False\n",
        "                break\n",
        "        \n",
        "        if es_p1_primo:\n",
        "            for p2 in range(p1, numero):\n",
        "                es_p2_primo = True\n",
        "                if p2 < 2 or (p2 % 2 == 0 and p2 != 2):\n",
        "                    es_p2_primo = False\n",
        "                for j in range(3, int(p2 ** 0.5) + 1, 2):\n",
        "                    if p2 % j == 0:\n",
        "                        es_p2_primo = False\n",
        "                        break\n",
        "                \n",
        "                if es_p2_primo:\n",
        "                    for p3 in range(p2, numero):\n",
        "                        es_p3_primo = True\n",
        "                        if p3 < 2 or (p3 % 2 == 0 and p3 != 2):\n",
        "                            es_p3_primo = False\n",
        "                        for k in range(3, int(p3 ** 0.5) + 1, 2):\n",
        "                            if p3 % k == 0:\n",
        "                                es_p3_primo = False\n",
        "                                break\n",
        "                        \n",
        "                        if es_p3_primo and p1 + p2 + p3 == numero:\n",
        "                            print(\"Tres números primos cuya suma es {}: ({}, {}, {})\".format(numero, p1, p2, p3))\n",
        "                            encontrado = True\n",
        "    \n",
        "    if not encontrado:\n",
        "        print(\"No se encontraron tres primos que sumen el número dado\")"
      ]
    },
    {
      "cell_type": "markdown",
      "metadata": {
        "id": "l1YIkXSorDyG"
      },
      "source": [
        "## Problema del número Kaprekar\n",
        "\n",
        "> - Se requiere implementar la función Kaprekar (un número), que recibe como parámetro un número entero no negativo y determina si el número es Krapekar o no. Un número Krapekar es todo entero no negativo n que cuando se eleva al cuadrado, el número resultante puede ser dividido en 2 partes a y b donde a + b = n.\n",
        "- Por ejemplo, 9 y 297 son números Krapekar:\n",
        "    - 9^2 = 81\n",
        "        - 8 + 1 = 9 (SI es!) <br><br>\n",
        "    - 297^2 = 88209\n",
        "        - 8820 + 9 = 8829\n",
        "        - 882 + 09 = 891\n",
        "        - 88 + 209 = 297 (SI es!) <br><br>\n",
        "    - 143^2 = 20449\n",
        "        - 2 + 0449 = 551\n",
        "        - 20 + 449 = 469\n",
        "        - 204 + 49 = 253\n",
        "        - 2044 + 9 = 2053  (NO es!)\n"
      ]
    },
    {
      "cell_type": "code",
      "execution_count": null,
      "metadata": {
        "id": "LhEcfZ8OlXwP"
      },
      "outputs": [],
      "source": [
        "# Celda de código para probar"
      ]
    },
    {
      "cell_type": "markdown",
      "metadata": {
        "id": "yMvUUrFgTXv_"
      },
      "source": [
        "# Imprimir tablas de multiplicar\n",
        "\n",
        "> - A partir de la utilización de ciclos, generar las siguientes impresiones de tablas de multiplicar:\n",
        "\n",
        "> - Visualización 1: tenemos tablas del 1 hasta el 9, cada tabla va hasta el 9. Los valores están alineados\n",
        "```\n",
        "1 x 1 = 1       2 x 1 = 2       3 x 1 = 3\n",
        "1 x 2 = 2       2 x 2 = 4       3 x 2 = 6\n",
        "1 x 3 = 3       2 x 3 = 6       3 x 3 = 9\n",
        "1 x 4 = 4       2 x 4 = 8       3 x 4 = 12\n",
        "1 x 5 = 5       2 x 5 = 10      3 x 5 = 15\n",
        "1 x 6 = 6       2 x 6 = 12      3 x 6 = 18\n",
        "1 x 7 = 7       2 x 7 = 14      3 x 7 = 21\n",
        "1 x 8 = 8       2 x 8 = 16      3 x 8 = 24\n",
        "1 x 9 = 9       2 x 9 = 18      3 x 9 = 27\n",
        "_\n",
        "4 x 1 = 4       5 x 1 = 5       6 x 1 = 6\n",
        "4 x 2 = 8       5 x 2 = 10      6 x 2 = 12\n",
        "4 x 3 = 12      5 x 3 = 15      6 x 3 = 18\n",
        "4 x 4 = 16      5 x 4 = 20      6 x 4 = 24\n",
        "4 x 5 = 20      5 x 5 = 25      6 x 5 = 30\n",
        "4 x 6 = 24      5 x 6 = 30      6 x 6 = 36\n",
        "4 x 7 = 28      5 x 7 = 35      6 x 7 = 42\n",
        "4 x 8 = 32      5 x 8 = 40      6 x 8 = 48\n",
        "4 x 9 = 36      5 x 9 = 45      6 x 9 = 54\n",
        "_\n",
        "7 x 1 = 7       8 x 1 = 8       9 x 1 = 9\n",
        "7 x 2 = 14      8 x 2 = 16      9 x 2 = 18\n",
        "7 x 3 = 21      8 x 3 = 24      9 x 3 = 27\n",
        "7 x 4 = 28      8 x 4 = 32      9 x 4 = 36\n",
        "7 x 5 = 35      8 x 5 = 40      9 x 5 = 45\n",
        "7 x 6 = 42      8 x 6 = 48      9 x 6 = 54\n",
        "7 x 7 = 49      8 x 7 = 56      9 x 7 = 63\n",
        "7 x 8 = 56      8 x 8 = 64      9 x 8 = 72\n",
        "7 x 9 = 63      8 x 9 = 72      9 x 9 = 81\n",
        "```\n",
        "\n",
        "> - Visualización 2: observe que tenmos tablas del 1 al 10, cada tabla va hasta el 10. Los valores están alineados de manera diferente\n",
        "```\n",
        "1 x  1 =  1 \t2 x  1 =  2 \t3 x  1 =  3 \t4 x  1 =  4 \t5 x  1 =  5\n",
        "1 x  2 =  2 \t2 x  2 =  4 \t3 x  2 =  6 \t4 x  2 =  8 \t5 x  2 = 10\n",
        "1 x  3 =  3 \t2 x  3 =  6 \t3 x  3 =  9 \t4 x  3 = 12 \t5 x  3 = 15\n",
        "1 x  4 =  4 \t2 x  4 =  8 \t3 x  4 = 12 \t4 x  4 = 16 \t5 x  4 = 20\n",
        "1 x  5 =  5 \t2 x  5 = 10 \t3 x  5 = 15 \t4 x  5 = 20 \t5 x  5 = 25\n",
        "1 x  6 =  6 \t2 x  6 = 12 \t3 x  6 = 18 \t4 x  6 = 24 \t5 x  6 = 30\n",
        "1 x  7 =  7 \t2 x  7 = 14 \t3 x  7 = 21 \t4 x  7 = 28 \t5 x  7 = 35\n",
        "1 x  8 =  8 \t2 x  8 = 16 \t3 x  8 = 24 \t4 x  8 = 32 \t5 x  8 = 40\n",
        "1 x  9 =  9 \t2 x  9 = 18 \t3 x  9 = 27 \t4 x  9 = 36 \t5 x  9 = 45\n",
        "1 x 10 = 10 \t2 x 10 = 20 \t3 x 10 = 30 \t4 x 10 = 40 \t5 x 10 = 50\n",
        "_\n",
        "6 x  1 =  6 \t7 x  1 =  7 \t8 x  1 =  8 \t9 x  1 =  9 \t10 x  1 = 10\n",
        "6 x  2 = 12 \t7 x  2 = 14 \t8 x  2 = 16 \t9 x  2 = 18 \t10 x  2 = 20\n",
        "6 x  3 = 18 \t7 x  3 = 21 \t8 x  3 = 24 \t9 x  3 = 27 \t10 x  3 = 30\n",
        "6 x  4 = 24 \t7 x  4 = 28 \t8 x  4 = 32 \t9 x  4 = 36 \t10 x  4 = 40\n",
        "6 x  5 = 30 \t7 x  5 = 35 \t8 x  5 = 40 \t9 x  5 = 45 \t10 x  5 = 50\n",
        "6 x  6 = 36 \t7 x  6 = 42 \t8 x  6 = 48 \t9 x  6 = 54 \t10 x  6 = 60\n",
        "6 x  7 = 42 \t7 x  7 = 49 \t8 x  7 = 56 \t9 x  7 = 63 \t10 x  7 = 70\n",
        "6 x  8 = 48 \t7 x  8 = 56 \t8 x  8 = 64 \t9 x  8 = 72 \t10 x  8 = 80\n",
        "6 x  9 = 54 \t7 x  9 = 63 \t8 x  9 = 72 \t9 x  9 = 81 \t10 x  9 = 90\n",
        "6 x 10 = 60 \t7 x 10 = 70 \t8 x 10 = 80 \t9 x 10 = 90 \t10 x 10 = 100\n",
        "```\n",
        "\n",
        "\n",
        "\n"
      ]
    },
    {
      "cell_type": "code",
      "execution_count": 33,
      "metadata": {},
      "outputs": [
        {
          "name": "stdout",
          "output_type": "stream",
          "text": [
            "1 x 1 = 1   \t2 x 1 = 2   \t3 x 1 = 3   \t\n",
            "1 x 2 = 2   \t2 x 2 = 4   \t3 x 2 = 6   \t\n",
            "1 x 3 = 3   \t2 x 3 = 6   \t3 x 3 = 9   \t\n",
            "1 x 4 = 4   \t2 x 4 = 8   \t3 x 4 = 12  \t\n",
            "1 x 5 = 5   \t2 x 5 = 10  \t3 x 5 = 15  \t\n",
            "1 x 6 = 6   \t2 x 6 = 12  \t3 x 6 = 18  \t\n",
            "1 x 7 = 7   \t2 x 7 = 14  \t3 x 7 = 21  \t\n",
            "1 x 8 = 8   \t2 x 8 = 16  \t3 x 8 = 24  \t\n",
            "1 x 9 = 9   \t2 x 9 = 18  \t3 x 9 = 27  \t\n",
            "_\n",
            "4 x 1 = 4   \t5 x 1 = 5   \t6 x 1 = 6   \t\n",
            "4 x 2 = 8   \t5 x 2 = 10  \t6 x 2 = 12  \t\n",
            "4 x 3 = 12  \t5 x 3 = 15  \t6 x 3 = 18  \t\n",
            "4 x 4 = 16  \t5 x 4 = 20  \t6 x 4 = 24  \t\n",
            "4 x 5 = 20  \t5 x 5 = 25  \t6 x 5 = 30  \t\n",
            "4 x 6 = 24  \t5 x 6 = 30  \t6 x 6 = 36  \t\n",
            "4 x 7 = 28  \t5 x 7 = 35  \t6 x 7 = 42  \t\n",
            "4 x 8 = 32  \t5 x 8 = 40  \t6 x 8 = 48  \t\n",
            "4 x 9 = 36  \t5 x 9 = 45  \t6 x 9 = 54  \t\n",
            "_\n",
            "7 x 1 = 7   \t8 x 1 = 8   \t9 x 1 = 9   \t\n",
            "7 x 2 = 14  \t8 x 2 = 16  \t9 x 2 = 18  \t\n",
            "7 x 3 = 21  \t8 x 3 = 24  \t9 x 3 = 27  \t\n",
            "7 x 4 = 28  \t8 x 4 = 32  \t9 x 4 = 36  \t\n",
            "7 x 5 = 35  \t8 x 5 = 40  \t9 x 5 = 45  \t\n",
            "7 x 6 = 42  \t8 x 6 = 48  \t9 x 6 = 54  \t\n",
            "7 x 7 = 49  \t8 x 7 = 56  \t9 x 7 = 63  \t\n",
            "7 x 8 = 56  \t8 x 8 = 64  \t9 x 8 = 72  \t\n",
            "7 x 9 = 63  \t8 x 9 = 72  \t9 x 9 = 81  \t\n",
            "_\n"
          ]
        }
      ],
      "source": [
        "for start in range(1, 10, 3):  # Groups of 3 columns: (1-3), (4-6), (7-9)\n",
        "    for multiplier in range(1, 10):  # Rows for multipliers 1 to 9\n",
        "        for number in range(start, start + 3):  # Print 3 columns per row\n",
        "            print(f'{number} x {multiplier} = {number * multiplier:<4}', end='\\t')\n",
        "        print()  # Newline after each row\n",
        "    print('_')  # Separator between groups"
      ]
    },
    {
      "cell_type": "code",
      "execution_count": 35,
      "metadata": {},
      "outputs": [
        {
          "name": "stdout",
          "output_type": "stream",
          "text": [
            "1 x  1 =  1\t2 x  1 =  2\t3 x  1 =  3\t4 x  1 =  4\t5 x  1 =  5\t\n",
            "1 x  2 =  2\t2 x  2 =  4\t3 x  2 =  6\t4 x  2 =  8\t5 x  2 = 10\t\n",
            "1 x  3 =  3\t2 x  3 =  6\t3 x  3 =  9\t4 x  3 = 12\t5 x  3 = 15\t\n",
            "1 x  4 =  4\t2 x  4 =  8\t3 x  4 = 12\t4 x  4 = 16\t5 x  4 = 20\t\n",
            "1 x  5 =  5\t2 x  5 = 10\t3 x  5 = 15\t4 x  5 = 20\t5 x  5 = 25\t\n",
            "1 x  6 =  6\t2 x  6 = 12\t3 x  6 = 18\t4 x  6 = 24\t5 x  6 = 30\t\n",
            "1 x  7 =  7\t2 x  7 = 14\t3 x  7 = 21\t4 x  7 = 28\t5 x  7 = 35\t\n",
            "1 x  8 =  8\t2 x  8 = 16\t3 x  8 = 24\t4 x  8 = 32\t5 x  8 = 40\t\n",
            "1 x  9 =  9\t2 x  9 = 18\t3 x  9 = 27\t4 x  9 = 36\t5 x  9 = 45\t\n",
            "1 x 10 = 10\t2 x 10 = 20\t3 x 10 = 30\t4 x 10 = 40\t5 x 10 = 50\t\n",
            "_\n",
            "6 x  1 =  6\t7 x  1 =  7\t8 x  1 =  8\t9 x  1 =  9\t10 x  1 = 10\t\n",
            "6 x  2 = 12\t7 x  2 = 14\t8 x  2 = 16\t9 x  2 = 18\t10 x  2 = 20\t\n",
            "6 x  3 = 18\t7 x  3 = 21\t8 x  3 = 24\t9 x  3 = 27\t10 x  3 = 30\t\n",
            "6 x  4 = 24\t7 x  4 = 28\t8 x  4 = 32\t9 x  4 = 36\t10 x  4 = 40\t\n",
            "6 x  5 = 30\t7 x  5 = 35\t8 x  5 = 40\t9 x  5 = 45\t10 x  5 = 50\t\n",
            "6 x  6 = 36\t7 x  6 = 42\t8 x  6 = 48\t9 x  6 = 54\t10 x  6 = 60\t\n",
            "6 x  7 = 42\t7 x  7 = 49\t8 x  7 = 56\t9 x  7 = 63\t10 x  7 = 70\t\n",
            "6 x  8 = 48\t7 x  8 = 56\t8 x  8 = 64\t9 x  8 = 72\t10 x  8 = 80\t\n",
            "6 x  9 = 54\t7 x  9 = 63\t8 x  9 = 72\t9 x  9 = 81\t10 x  9 = 90\t\n",
            "6 x 10 = 60\t7 x 10 = 70\t8 x 10 = 80\t9 x 10 = 90\t10 x 10 = 100\t\n",
            "_\n"
          ]
        }
      ],
      "source": [
        "for start in range(1, 11, 5):  # Groups of 5 columns: (1-5), (6-10)\n",
        "    for multiplier in range(1, 11):  # Rows for multipliers 1 to 10\n",
        "        for number in range(start, start + 5):  # Print 5 columns per row\n",
        "            print(f'{number} x {multiplier:2} = {number * multiplier:2}', end='\\t')\n",
        "        print()  # Newline after each row\n",
        "    print('_')  # Separator between groups"
      ]
    }
  ],
  "metadata": {
    "colab": {
      "provenance": []
    },
    "kernelspec": {
      "display_name": "Analitica",
      "language": "python",
      "name": "python3"
    },
    "language_info": {
      "codemirror_mode": {
        "name": "ipython",
        "version": 3
      },
      "file_extension": ".py",
      "mimetype": "text/x-python",
      "name": "python",
      "nbconvert_exporter": "python",
      "pygments_lexer": "ipython3",
      "version": "3.9.19"
    }
  },
  "nbformat": 4,
  "nbformat_minor": 0
}
