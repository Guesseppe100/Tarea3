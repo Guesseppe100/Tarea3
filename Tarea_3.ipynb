{
  "cells": [
    {
      "cell_type": "markdown",
      "metadata": {
        "id": "eWZAdQe4eb4P"
      },
      "source": [
        "# __CURSO DE PROGRAMACIÓN PARA ANALÍTICA DE DATOS__\n",
        "\n",
        "> ## __TALLER N° 4:  CONDICIONALES Y CICLOS__\n",
        ">\n",
        "> ## Profesor: Jorge Victorino [jvictorinog@ucentral.edu.co](jvictorinog@ucentral.edu.co)<br>\n",
        "> ## Estudiante: Wilson Martínez Barrantes [wmartinezb1@ucentral.edu.co](wmartinezb1@ucentral.edu.co)<br>\n",
        "> ### Facultad de Ingeniería y Ciencias Básicas <br>\n",
        "> ### Universidad Central <br>\n",
        "> <br>\n",
        ">\n",
        "\n",
        "\n",
        "\n"
      ]
    },
    {
      "cell_type": "markdown",
      "metadata": {
        "id": "CecgPT_UNApC"
      },
      "source": [
        "# __Ejercicios de algoritmos ciclicos__\n",
        "\n",
        "> - En los siguientes ejercicios no utilizar librerías y no utilizar listas o arreglos  "
      ]
    },
    {
      "cell_type": "markdown",
      "metadata": {
        "id": "a4XMVYvEx5X3"
      },
      "source": [
        "## 1. Problema del digito de verificación\n",
        "\n",
        "> - Dígito de verificación, es una regla que se usa para detectar errores en la lectura de una cadena por algún dispositivo de sensado. Esta regla permite verificar si, por ejemplo, un número de cuenta asignado a una persona es válido o si este puede ser inventado o simplemente esta mal.\n",
        "En este ejemplo el dígito de verificación es un número que es el resultado de sumar todos los dígitos (de izquierda a derecha) excepto el último y obtener el módulo X de esta suma. En decir, el último digito se utiliza para verificar y el número sera válido si es igual al módulo X de la suma.\n",
        "Adicionalmente, los números de cuenta son válidos si cumplen que tienen una determinada cantidad de digitos así:\n",
        "- Tipo 1: 10 digitos y hacer el módulo X=10 con la suma\n",
        "- Tipo 2:  8 digitos y hacer el módulo X=8  con la suma\n",
        "- Ejemplos:\n",
        "    - Entrada: (3425154)  --> Salida: (Detección de falla por longitud)\n",
        "    - Entrada: (42524250) --> Salida: (Válido Tipo-2 )\n",
        "    - Entrada: (42524257) --> Salida: (Detcción de falla por dígito no válido)\n",
        "    - Entrada: (20186040301) --> Salida: (Detección de falla por longitud)\n",
        "    - Entrada: (2018604030) --> Salida: (Válido Tipo-1)\n",
        "    - Entrada: (6786976469) --> Salida: (Válido Tipo-1)\n",
        "    - Entrada: (6786976460) --> Salida: (Detección de falla por dígito no válido)\n"
      ]
    },
    {
      "cell_type": "code",
      "execution_count": 15,
      "metadata": {},
      "outputs": [
        {
          "name": "stdout",
          "output_type": "stream",
          "text": [
            "Número inválido (Tipo 1)\n"
          ]
        }
      ],
      "source": [
        "def validar_numero_cuenta(numero):\n",
        "    # Determinar la cantidad de dígitos\n",
        "    digitos = len(str(numero))\n",
        "    \n",
        "    # Validar que la longitud sea 8 o 10\n",
        "    if digitos not in [8, 10]:\n",
        "        return \"Número inválido: debe tener 8 o 10 dígitos.\"\n",
        "    \n",
        "    # Definir el módulo y el tipo de cuenta\n",
        "    modulo_x = 10 if digitos == 10 else 8\n",
        "    tipo_cuenta = \"Tipo 1\" if digitos == 10 else \"Tipo 2\"\n",
        "    \n",
        "    # Extraer el último dígito (dígito de verificación)\n",
        "    digito_verificacion = numero % 10\n",
        "    numero //= 10  # Eliminar el último dígito\n",
        "    \n",
        "    # Calcular la suma de los demás dígitos\n",
        "    suma = sum(int(d) for d in str(numero))\n",
        "    \n",
        "    # Validar con el módulo correspondiente\n",
        "    if suma % modulo_x == digito_verificacion:\n",
        "        return f\"Número válido ({tipo_cuenta})\"\n",
        "    else:\n",
        "        return f\"Número inválido ({tipo_cuenta})\"\n",
        "\n",
        "# Ejemplo de uso\n",
        "numero = int(input(\"Ingrese el número de cuenta: \"))\n",
        "print(validar_numero_cuenta(numero))\n"
      ]
    },
    {
      "cell_type": "markdown",
      "metadata": {
        "id": "vb1PDIf2bAur"
      },
      "source": [
        "## 2. Probelma de reciclar vasos de plástico\n",
        "\n",
        "> - Cierta compañía se dedica a la producción vasos de plástico reciclando vasos usados.\n",
        "Diseñe una función que calcule la cantidad total acumulada de vasos que se pueden prodicir a partir de $n$ vasos y sabiendo que es posible fabricar un vaso nuevo reciclando repetidamente un número $x$ de vasos usados, hasta que ya no haya vasos para reciclar.\n",
        "- __Ejemplo__: Si n = 70, x = 4, la respuesta entregada por la función es 23 siguiendo el siguiente proceso:\n",
        "    - Primer reciclaje: Con 70 se fabrican 70/4 =17 vasos y sobran 2\n",
        "    - Segundo reciclaje: n= 17+2 =19 se fabrican 19/4 = 4 vasos\ty sobran 3\n",
        "    - Tercer reciclaje: n=4+3 =7 se fabrican 7/4 = 1 y sobran 3\n",
        "    - Cuarto reciclaje: n=1+3 =4 se fabrican 4/4 =1 vasos y no quedan suficientes\n",
        "    - vasos para reciclar. Total de vasos fabricados:  17 + 4 + 1 +1= 23\n",
        "- __Otros ejemplos:__\n",
        "    - Entrada: (580, 3) --> Salida: (289)\n",
        "    - Entrada: (580, 5) --> Salida: (144)\n",
        "    - Entrada: (580, 6) --> Salida: (115)\n",
        "    - Entrada: (580, 7) --> Salida: (96)\n",
        "    - Entrada: (110, 5) --> Salida: (27)\n",
        "    - Entrada: (150, 10) --> Salida: (16)\n",
        "    - Entrada: (990, 2) --> Salida: (989)\n",
        "\n",
        "\n",
        "\n",
        "\n"
      ]
    },
    {
      "cell_type": "code",
      "execution_count": null,
      "metadata": {},
      "outputs": [
        {
          "name": "stdout",
          "output_type": "stream",
          "text": [
            "Total de vasos fabricados: 989\n"
          ]
        }
      ],
      "source": [
        "def vasos_reciclados(n, x):\n",
        "    \"\"\"Calcula la cantidad total de vasos reciclados a partir de n vasos iniciales.\"\"\"\n",
        "    total_vasos = 0  \n",
        "    \n",
        "    while n >= x:  \n",
        "        reciclados, sobrantes = divmod(n, x) \n",
        "        total_vasos += reciclados  \n",
        "        n = reciclados + sobrantes  \n",
        "    return total_vasos \n",
        "\n",
        "# Solicitar los valores al usuario\n",
        "n = int(input(\"Ingrese la cantidad de vasos disponibles: \"))\n",
        "x = int(input(\"Ingrese la cantidad de vasos necesarios para reciclar uno nuevo: \"))\n",
        "\n",
        "# Llamar a la función e imprimir el resultado\n",
        "print(f\"Total de vasos fabricados: {vasos_reciclados(n, x)}\")"
      ]
    },
    {
      "cell_type": "markdown",
      "metadata": {
        "id": "8q5TBDiPi6uL"
      },
      "source": [
        "## 3. Problema del dígito característico\n",
        "\n",
        "> - Diseñe un algoritmo que lea un número natural N y sume sus dígitos, si el resultado es mayor que 9 nuevamente sume sus dígitos hasta obtener un número de un solo dígito.\n",
        "    - Ejemplos:\n",
        "        - Entrada: (4398) ==>  4398 --> 24 --> 6, Salida:(6)\n",
        "        - Entrada: (7986982) ==> 7986982 --> 49 --> 13 --> 4, Salida: (4)\n"
      ]
    },
    {
      "cell_type": "code",
      "execution_count": 10,
      "metadata": {
        "id": "pcU0UB0OiKyc"
      },
      "outputs": [
        {
          "name": "stdout",
          "output_type": "stream",
          "text": [
            "Entrada: (4398) ==> Salida: (6)\n",
            "Entrada: (7986982) ==> Salida: (4)\n",
            "Entrada: (89) ==> Salida: (8)\n"
          ]
        }
      ],
      "source": [
        "def suma_digitos(n):\n",
        "    while n > 9:\n",
        "        n = sum(int(digit) for digit in str(n))\n",
        "    return n\n",
        "\n",
        "# Ejemplos de uso\n",
        "n1 = 4398\n",
        "n2 = 7986982\n",
        "n3 = 89\n",
        "print(f\"Entrada: ({n1}) ==> Salida: ({suma_digitos(n1)})\")\n",
        "print(f\"Entrada: ({n2}) ==> Salida: ({suma_digitos(n2)})\")\n",
        "print(f\"Entrada: ({n3}) ==> Salida: ({suma_digitos(n3)})\")"
      ]
    },
    {
      "cell_type": "markdown",
      "metadata": {
        "id": "MIY477LyxI9W"
      },
      "source": [
        "## 4. Problema de combinación de primos\n",
        "> - Escriba un programa que reciba un número impar mayor a 5 y encuentre tres números primos cuya suma es igual al número impar dado. La llamada “Conjetura débil de Goldbach” propuesta en el año 1742 afirma que todo número impar mayor a 5 se puede expresar como la suma de tres números primos.\n"
      ]
    },
    {
      "cell_type": "code",
      "execution_count": 17,
      "metadata": {
        "id": "e229o4JQq_Zd"
      },
      "outputs": [
        {
          "name": "stdout",
          "output_type": "stream",
          "text": [
            "Los tres primos son: 2, 2, 3\n"
          ]
        }
      ],
      "source": [
        "def es_primo(n):\n",
        "    if n < 2:\n",
        "        return False\n",
        "    for i in range(2, n):  \n",
        "        if n % i == 0:\n",
        "            return False\n",
        "    return True\n",
        "\n",
        "def encontrar_tres_primos(n):\n",
        "    if n <= 5 or n % 2 == 0:\n",
        "        return \"El número debe ser impar y mayor a 5\"\n",
        "    \n",
        "    for a in range(2, n):\n",
        "        if es_primo(a):\n",
        "            for b in range(a, n):\n",
        "                if es_primo(b):\n",
        "                    for c in range(b, n):\n",
        "                        if es_primo(c) and a + b + c == n:\n",
        "                            return f\"Los tres primos son: {a}, {b}, {c}\"\n",
        "    \n",
        "    return \"No se encontraron tres números primos cuya suma sea el número dado\"\n",
        "\n",
        "# Ejemplo de uso\n",
        "n = int(input(\"Ingrese un número impar mayor a 5: \"))\n",
        "print(encontrar_tres_primos(n))"
      ]
    },
    {
      "cell_type": "markdown",
      "metadata": {
        "id": "l1YIkXSorDyG"
      },
      "source": [
        "## 5. Problema del número Kaprekar\n",
        "\n",
        "> - Se requiere implementar la función Kaprekar (un número), que recibe como parámetro un número entero no negativo y determina si el número es Krapekar o no. Un número Krapekar es todo entero no negativo n que cuando se eleva al cuadrado, el número resultante puede ser dividido en 2 partes a y b donde a + b = n.\n",
        "- Por ejemplo, 9 y 297 son números Krapekar:\n",
        "    - 9^2 = 81\n",
        "        - 8 + 1 = 9 (SI es!) <br><br>\n",
        "    - 297^2 = 88209\n",
        "        - 8820 + 9 = 8829\n",
        "        - 882 + 09 = 891\n",
        "        - 88 + 209 = 297 (SI es!) <br><br>\n",
        "    - 143^2 = 20449\n",
        "        - 2 + 0449 = 551\n",
        "        - 20 + 449 = 469\n",
        "        - 204 + 49 = 253\n",
        "        - 2044 + 9 = 2053  (NO es!)\n"
      ]
    },
    {
      "cell_type": "code",
      "execution_count": null,
      "metadata": {
        "id": "LhEcfZ8OlXwP"
      },
      "outputs": [
        {
          "name": "stdout",
          "output_type": "stream",
          "text": [
            "Entrada: (9) ==> Salida: Sí es Kaprekar\n"
          ]
        }
      ],
      "source": [
        "def es_kaprekar(n):\n",
        "    if n < 0:\n",
        "        return False\n",
        "    \n",
        "    cuadrado = n * n  # Elevar al cuadrado sin usar librerías\n",
        "    num_str = str(cuadrado)  # Convertir a cadena para manipular\n",
        "    longitud = len(num_str)\n",
        "    \n",
        "    for i in range(1, longitud):  # Dividir en dos partes\n",
        "        a = int(num_str[:i]) if num_str[:i] != \"\" else 0\n",
        "        b = int(num_str[i:]) if num_str[i:] != \"\" else 0\n",
        "        \n",
        "        if a + b == n and b != 0:\n",
        "            return True\n",
        "    \n",
        "    return False\n",
        "\n",
        "\n",
        "n = int(input(\"Ingrese un número: \"))\n",
        "resultado = \"Sí es Kaprekar\" if es_kaprekar(n) else \"No es Kaprekar\"\n",
        "print(f\"Entrada: ({n}) ==> Salida: {resultado}\")\n"
      ]
    },
    {
      "cell_type": "markdown",
      "metadata": {
        "id": "yMvUUrFgTXv_"
      },
      "source": [
        "# 6. Imprimir tablas de multiplicar\n",
        "\n",
        "> - A partir de la utilización de ciclos, generar las siguientes impresiones de tablas de multiplicar:\n",
        "\n",
        "> - Visualización 1: tenemos tablas del 1 hasta el 9, cada tabla va hasta el 9. Los valores están alineados\n",
        "```\n",
        "1 x 1 = 1       2 x 1 = 2       3 x 1 = 3\n",
        "1 x 2 = 2       2 x 2 = 4       3 x 2 = 6\n",
        "1 x 3 = 3       2 x 3 = 6       3 x 3 = 9\n",
        "1 x 4 = 4       2 x 4 = 8       3 x 4 = 12\n",
        "1 x 5 = 5       2 x 5 = 10      3 x 5 = 15\n",
        "1 x 6 = 6       2 x 6 = 12      3 x 6 = 18\n",
        "1 x 7 = 7       2 x 7 = 14      3 x 7 = 21\n",
        "1 x 8 = 8       2 x 8 = 16      3 x 8 = 24\n",
        "1 x 9 = 9       2 x 9 = 18      3 x 9 = 27\n",
        "_\n",
        "4 x 1 = 4       5 x 1 = 5       6 x 1 = 6\n",
        "4 x 2 = 8       5 x 2 = 10      6 x 2 = 12\n",
        "4 x 3 = 12      5 x 3 = 15      6 x 3 = 18\n",
        "4 x 4 = 16      5 x 4 = 20      6 x 4 = 24\n",
        "4 x 5 = 20      5 x 5 = 25      6 x 5 = 30\n",
        "4 x 6 = 24      5 x 6 = 30      6 x 6 = 36\n",
        "4 x 7 = 28      5 x 7 = 35      6 x 7 = 42\n",
        "4 x 8 = 32      5 x 8 = 40      6 x 8 = 48\n",
        "4 x 9 = 36      5 x 9 = 45      6 x 9 = 54\n",
        "_\n",
        "7 x 1 = 7       8 x 1 = 8       9 x 1 = 9\n",
        "7 x 2 = 14      8 x 2 = 16      9 x 2 = 18\n",
        "7 x 3 = 21      8 x 3 = 24      9 x 3 = 27\n",
        "7 x 4 = 28      8 x 4 = 32      9 x 4 = 36\n",
        "7 x 5 = 35      8 x 5 = 40      9 x 5 = 45\n",
        "7 x 6 = 42      8 x 6 = 48      9 x 6 = 54\n",
        "7 x 7 = 49      8 x 7 = 56      9 x 7 = 63\n",
        "7 x 8 = 56      8 x 8 = 64      9 x 8 = 72\n",
        "7 x 9 = 63      8 x 9 = 72      9 x 9 = 81\n",
        "```\n",
        "\n",
        "> - Visualización 2: observe que tenmos tablas del 1 al 10, cada tabla va hasta el 10. Los valores están alineados de manera diferente\n",
        "```\n",
        "1 x  1 =  1 \t2 x  1 =  2 \t3 x  1 =  3 \t4 x  1 =  4 \t5 x  1 =  5\n",
        "1 x  2 =  2 \t2 x  2 =  4 \t3 x  2 =  6 \t4 x  2 =  8 \t5 x  2 = 10\n",
        "1 x  3 =  3 \t2 x  3 =  6 \t3 x  3 =  9 \t4 x  3 = 12 \t5 x  3 = 15\n",
        "1 x  4 =  4 \t2 x  4 =  8 \t3 x  4 = 12 \t4 x  4 = 16 \t5 x  4 = 20\n",
        "1 x  5 =  5 \t2 x  5 = 10 \t3 x  5 = 15 \t4 x  5 = 20 \t5 x  5 = 25\n",
        "1 x  6 =  6 \t2 x  6 = 12 \t3 x  6 = 18 \t4 x  6 = 24 \t5 x  6 = 30\n",
        "1 x  7 =  7 \t2 x  7 = 14 \t3 x  7 = 21 \t4 x  7 = 28 \t5 x  7 = 35\n",
        "1 x  8 =  8 \t2 x  8 = 16 \t3 x  8 = 24 \t4 x  8 = 32 \t5 x  8 = 40\n",
        "1 x  9 =  9 \t2 x  9 = 18 \t3 x  9 = 27 \t4 x  9 = 36 \t5 x  9 = 45\n",
        "1 x 10 = 10 \t2 x 10 = 20 \t3 x 10 = 30 \t4 x 10 = 40 \t5 x 10 = 50\n",
        "_\n",
        "6 x  1 =  6 \t7 x  1 =  7 \t8 x  1 =  8 \t9 x  1 =  9 \t10 x  1 = 10\n",
        "6 x  2 = 12 \t7 x  2 = 14 \t8 x  2 = 16 \t9 x  2 = 18 \t10 x  2 = 20\n",
        "6 x  3 = 18 \t7 x  3 = 21 \t8 x  3 = 24 \t9 x  3 = 27 \t10 x  3 = 30\n",
        "6 x  4 = 24 \t7 x  4 = 28 \t8 x  4 = 32 \t9 x  4 = 36 \t10 x  4 = 40\n",
        "6 x  5 = 30 \t7 x  5 = 35 \t8 x  5 = 40 \t9 x  5 = 45 \t10 x  5 = 50\n",
        "6 x  6 = 36 \t7 x  6 = 42 \t8 x  6 = 48 \t9 x  6 = 54 \t10 x  6 = 60\n",
        "6 x  7 = 42 \t7 x  7 = 49 \t8 x  7 = 56 \t9 x  7 = 63 \t10 x  7 = 70\n",
        "6 x  8 = 48 \t7 x  8 = 56 \t8 x  8 = 64 \t9 x  8 = 72 \t10 x  8 = 80\n",
        "6 x  9 = 54 \t7 x  9 = 63 \t8 x  9 = 72 \t9 x  9 = 81 \t10 x  9 = 90\n",
        "6 x 10 = 60 \t7 x 10 = 70 \t8 x 10 = 80 \t9 x 10 = 90 \t10 x 10 = 100\n",
        "```\n",
        "\n",
        "\n",
        "\n"
      ]
    },
    {
      "cell_type": "code",
      "execution_count": 21,
      "metadata": {},
      "outputs": [
        {
          "name": "stdout",
          "output_type": "stream",
          "text": [
            "1 x  1 =  1\t2 x  1 =  2\t3 x  1 =  3\t4 x  1 =  4\t5 x  1 =  5\t\n",
            "1 x  2 =  2\t2 x  2 =  4\t3 x  2 =  6\t4 x  2 =  8\t5 x  2 = 10\t\n",
            "1 x  3 =  3\t2 x  3 =  6\t3 x  3 =  9\t4 x  3 = 12\t5 x  3 = 15\t\n",
            "1 x  4 =  4\t2 x  4 =  8\t3 x  4 = 12\t4 x  4 = 16\t5 x  4 = 20\t\n",
            "1 x  5 =  5\t2 x  5 = 10\t3 x  5 = 15\t4 x  5 = 20\t5 x  5 = 25\t\n",
            "1 x  6 =  6\t2 x  6 = 12\t3 x  6 = 18\t4 x  6 = 24\t5 x  6 = 30\t\n",
            "1 x  7 =  7\t2 x  7 = 14\t3 x  7 = 21\t4 x  7 = 28\t5 x  7 = 35\t\n",
            "1 x  8 =  8\t2 x  8 = 16\t3 x  8 = 24\t4 x  8 = 32\t5 x  8 = 40\t\n",
            "1 x  9 =  9\t2 x  9 = 18\t3 x  9 = 27\t4 x  9 = 36\t5 x  9 = 45\t\n",
            "1 x 10 = 10\t2 x 10 = 20\t3 x 10 = 30\t4 x 10 = 40\t5 x 10 = 50\t\n",
            "_\n",
            "6 x  1 =  6\t7 x  1 =  7\t8 x  1 =  8\t9 x  1 =  9\t10 x  1 = 10\t\n",
            "6 x  2 = 12\t7 x  2 = 14\t8 x  2 = 16\t9 x  2 = 18\t10 x  2 = 20\t\n",
            "6 x  3 = 18\t7 x  3 = 21\t8 x  3 = 24\t9 x  3 = 27\t10 x  3 = 30\t\n",
            "6 x  4 = 24\t7 x  4 = 28\t8 x  4 = 32\t9 x  4 = 36\t10 x  4 = 40\t\n",
            "6 x  5 = 30\t7 x  5 = 35\t8 x  5 = 40\t9 x  5 = 45\t10 x  5 = 50\t\n",
            "6 x  6 = 36\t7 x  6 = 42\t8 x  6 = 48\t9 x  6 = 54\t10 x  6 = 60\t\n",
            "6 x  7 = 42\t7 x  7 = 49\t8 x  7 = 56\t9 x  7 = 63\t10 x  7 = 70\t\n",
            "6 x  8 = 48\t7 x  8 = 56\t8 x  8 = 64\t9 x  8 = 72\t10 x  8 = 80\t\n",
            "6 x  9 = 54\t7 x  9 = 63\t8 x  9 = 72\t9 x  9 = 81\t10 x  9 = 90\t\n",
            "6 x 10 = 60\t7 x 10 = 70\t8 x 10 = 80\t9 x 10 = 90\t10 x 10 = 100\t\n",
            "_\n"
          ]
        }
      ],
      "source": [
        "def imprimir_tablas_visualizacion_1():\n",
        "    for bloque in range(1, 10, 3):\n",
        "        for i in range(1, 10):\n",
        "            for j in range(bloque, min(bloque + 3, 10)):\n",
        "                print(f\"{j} x {i} = {j * i}\", end=\"\\t\")\n",
        "            print()\n",
        "        print(\"_\")\n",
        "\n",
        "def imprimir_tablas_visualizacion_2():\n",
        "    for bloque in range(1, 11, 5):\n",
        "        for i in range(1, 11):\n",
        "            for j in range(bloque, min(bloque + 5, 11)):\n",
        "                print(f\"{j} x {i:2} = {j * i:2}\", end=\"\\t\")\n",
        "            print()\n",
        "        print(\"_\")\n",
        "\n",
        "\n",
        "imprimir_tablas_visualizacion_2()"
      ]
    }
  ],
  "metadata": {
    "colab": {
      "provenance": []
    },
    "kernelspec": {
      "display_name": "devops",
      "language": "python",
      "name": "python3"
    },
    "language_info": {
      "codemirror_mode": {
        "name": "ipython",
        "version": 3
      },
      "file_extension": ".py",
      "mimetype": "text/x-python",
      "name": "python",
      "nbconvert_exporter": "python",
      "pygments_lexer": "ipython3",
      "version": "3.9.19"
    }
  },
  "nbformat": 4,
  "nbformat_minor": 0
}
